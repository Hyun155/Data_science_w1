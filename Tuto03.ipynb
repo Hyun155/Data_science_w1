{
  "nbformat": 4,
  "nbformat_minor": 0,
  "metadata": {
    "colab": {
      "provenance": [],
      "authorship_tag": "ABX9TyPda2XAGxK4GFPBHwaKglhN",
      "include_colab_link": true
    },
    "kernelspec": {
      "name": "python3",
      "display_name": "Python 3"
    },
    "language_info": {
      "name": "python"
    }
  },
  "cells": [
    {
      "cell_type": "markdown",
      "metadata": {
        "id": "view-in-github",
        "colab_type": "text"
      },
      "source": [
        "<a href=\"https://colab.research.google.com/github/Hyun155/Data_science_w1/blob/main/Tuto03.ipynb\" target=\"_parent\"><img src=\"https://colab.research.google.com/assets/colab-badge.svg\" alt=\"Open In Colab\"/></a>"
      ]
    },
    {
      "cell_type": "code",
      "execution_count": 1,
      "metadata": {
        "id": "hi8c9IBm1Ov7"
      },
      "outputs": [],
      "source": [
        "import numpy as np"
      ]
    },
    {
      "cell_type": "code",
      "source": [
        "array = np.array([[1, 2],\n",
        "                  [3, 4]])\n",
        "print(\"2x2 Array:\\n\", array)"
      ],
      "metadata": {
        "colab": {
          "base_uri": "https://localhost:8080/"
        },
        "id": "vRv_4S_F1lJ2",
        "outputId": "2c282263-94bf-4515-ce1f-54c6f5e10eff"
      },
      "execution_count": 4,
      "outputs": [
        {
          "output_type": "stream",
          "name": "stdout",
          "text": [
            "2x2 Array:\n",
            " [[1 2]\n",
            " [3 4]]\n"
          ]
        }
      ]
    },
    {
      "cell_type": "code",
      "source": [
        "random = np.random.rand(3, 4)\n",
        "print(\"Random 3x4 array:\\n\", random)"
      ],
      "metadata": {
        "colab": {
          "base_uri": "https://localhost:8080/"
        },
        "id": "Yz6nxXiP18Bu",
        "outputId": "29296e66-1fc3-4bc6-a2aa-bb10d25b2073"
      },
      "execution_count": 5,
      "outputs": [
        {
          "output_type": "stream",
          "name": "stdout",
          "text": [
            "Random 3x4 array:\n",
            " [[0.6234294  0.19595924 0.79054751 0.39677122]\n",
            " [0.02096715 0.79224602 0.39609878 0.65481908]\n",
            " [0.47837648 0.35900396 0.96360934 0.8231733 ]]\n"
          ]
        }
      ]
    },
    {
      "cell_type": "code",
      "source": [
        "array1 = np.ones((2, 3))\n",
        "array0 = np.zeros((2, 3))\n",
        "print(\"Array of Ones:\\n\", array1)\n",
        "print(\"Array of Zeros:\\n\", array0)"
      ],
      "metadata": {
        "colab": {
          "base_uri": "https://localhost:8080/"
        },
        "id": "Yc1SW_H82I1d",
        "outputId": "e4fde06d-579d-48ca-bb12-f48d2c4618ab"
      },
      "execution_count": 7,
      "outputs": [
        {
          "output_type": "stream",
          "name": "stdout",
          "text": [
            "Array of Ones:\n",
            " [[1. 1. 1.]\n",
            " [1. 1. 1.]]\n",
            "Array of Zeros:\n",
            " [[0. 0. 0.]\n",
            " [0. 0. 0.]]\n"
          ]
        }
      ]
    },
    {
      "cell_type": "code",
      "source": [
        "randomNum = np.random.rand(6, 3)\n",
        "transpose_3x6 = randomNum.T\n",
        "print(\"Original 6x3 Array:\\n\", randomNum)\n",
        "print(\"Transposed 3x6 Array:\\n\", transpose_3x6)"
      ],
      "metadata": {
        "colab": {
          "base_uri": "https://localhost:8080/"
        },
        "id": "TkBTbZAV2pB3",
        "outputId": "0a910111-1568-4da7-d678-0665b774a202"
      },
      "execution_count": 8,
      "outputs": [
        {
          "output_type": "stream",
          "name": "stdout",
          "text": [
            "Original 6x3 Array:\n",
            " [[0.88972469 0.83618891 0.91311731]\n",
            " [0.41077926 0.55390358 0.60733121]\n",
            " [0.38937988 0.03102969 0.91920246]\n",
            " [0.57217067 0.59482063 0.29051423]\n",
            " [0.33321949 0.45597107 0.79322695]\n",
            " [0.99503697 0.22734172 0.66647529]]\n",
            "Transposed 3x6 Array:\n",
            " [[0.88972469 0.41077926 0.38937988 0.57217067 0.33321949 0.99503697]\n",
            " [0.83618891 0.55390358 0.03102969 0.59482063 0.45597107 0.22734172]\n",
            " [0.91311731 0.60733121 0.91920246 0.29051423 0.79322695 0.66647529]]\n"
          ]
        }
      ]
    },
    {
      "cell_type": "code",
      "source": [
        "n, p, m = 2, 3, 4\n",
        "A = np.random.rand(n, p)\n",
        "B = np.random.rand(p, m)\n",
        "dot_product = np.dot(A, B)\n",
        "print(\"Matrix A ({}x{}):\\n\".format(n,p), A)\n",
        "print(\"Matrix B ({}x{}):\\n\".format(p,m), B)\n",
        "print(\"Dot Product ({}x{}):\\n\".format(n,m), dot_product)"
      ],
      "metadata": {
        "colab": {
          "base_uri": "https://localhost:8080/"
        },
        "id": "L1cftMx83siJ",
        "outputId": "a5d2458e-3260-4cf3-d024-575850340c3a"
      },
      "execution_count": 9,
      "outputs": [
        {
          "output_type": "stream",
          "name": "stdout",
          "text": [
            "Matrix A (2x3):\n",
            " [[0.87975709 0.14293522 0.1500323 ]\n",
            " [0.95175265 0.45228387 0.96610851]]\n",
            "Matrix B (3x4):\n",
            " [[0.54230156 0.81337714 0.24993382 0.99606504]\n",
            " [0.54981485 0.05886939 0.55506614 0.01721424]\n",
            " [0.59341597 0.94037098 0.86954556 0.5326268 ]]\n",
            "Dot Product (2x4):\n",
            " [[0.64471311 0.86507484 0.42967947 0.95866703]\n",
            " [1.33811355 1.70925993 1.328998   1.47036855]]\n"
          ]
        }
      ]
    }
  ]
}